{
 "cells": [
  {
   "cell_type": "code",
   "execution_count": 9,
   "metadata": {},
   "outputs": [],
   "source": [
    "from selenium import webdriver\n",
    "import pandas as pd"
   ]
  },
  {
   "cell_type": "code",
   "execution_count": 1,
   "metadata": {},
   "outputs": [],
   "source": [
    "# store website inside a variable\n",
    "url = 'https://en.wikipedia.org/wiki/List_of_future_tallest_buildings'"
   ]
  },
  {
   "cell_type": "code",
   "execution_count": 3,
   "metadata": {},
   "outputs": [],
   "source": [
    "# initialize Chrome Driver\n",
    "driver = webdriver.Chrome('C:/webdrivers/chromedriver.exe')\n",
    "\n",
    "# open website\n",
    "driver.get(url)\n",
    "\n",
    "# maximize window\n",
    "driver.maximize_window()"
   ]
  },
  {
   "cell_type": "markdown",
   "metadata": {},
   "source": [
    "### Locators"
   ]
  },
  {
   "cell_type": "code",
   "execution_count": 14,
   "metadata": {},
   "outputs": [],
   "source": [
    "# 2. dann Dataframe kreieren\n",
    "df_buildings = pd.DataFrame(columns=['Building', 'City', 'Country', 'Height in M', 'Height in Ft', 'Floors'])\n",
    "\n",
    "# 1. Locators setzen\n",
    "building = driver.find_elements_by_xpath('//table[@class=\"wikitable sortable jquery-tablesorter\"][1]/tbody/tr/td[2]')\n",
    "city = driver.find_elements_by_xpath('//table[@class=\"wikitable sortable jquery-tablesorter\"][1]/tbody/tr/td[3]')\n",
    "country = driver.find_elements_by_xpath('//table[@class=\"wikitable sortable jquery-tablesorter\"][1]/tbody/tr/td[4]')\n",
    "height_meters = driver.find_elements_by_xpath('//table[@class=\"wikitable sortable jquery-tablesorter\"][1]/tbody/tr/td[5]')\n",
    "height_ft = driver.find_elements_by_xpath('//table[@class=\"wikitable sortable jquery-tablesorter\"][1]/tbody/tr/td[6]')\n",
    "floors = driver.find_elements_by_xpath('//table[@class=\"wikitable sortable jquery-tablesorter\"][1]/tbody/tr/td[7]')\n",
    "\n",
    "# 3. in Dataframe appenden\n",
    "for i in range(len(building)):\n",
    "\n",
    "    df_buildings =df_buildings.append({'Building':bulding[i].text, 'City': city[i].text,\n",
    "                                  'Country': country[i].text, 'Height in M': height_meters[i].text,\n",
    "                                  'Height in Ft': height_ft[i].text, 'Floors': floors[i].text}, ignore_index=True)"
   ]
  },
  {
   "cell_type": "code",
   "execution_count": 10,
   "metadata": {},
   "outputs": [],
   "source": [
    "# zeigen wie Skelett aussieht\n",
    "# df_bike = pd.DataFrame(columns=['Building', 'City', 'Country', 'Height in M', 'Height in Ft', 'Floors'])"
   ]
  },
  {
   "cell_type": "code",
   "execution_count": 15,
   "metadata": {},
   "outputs": [
    {
     "data": {
      "text/html": [
       "<div>\n",
       "<style scoped>\n",
       "    .dataframe tbody tr th:only-of-type {\n",
       "        vertical-align: middle;\n",
       "    }\n",
       "\n",
       "    .dataframe tbody tr th {\n",
       "        vertical-align: top;\n",
       "    }\n",
       "\n",
       "    .dataframe thead th {\n",
       "        text-align: right;\n",
       "    }\n",
       "</style>\n",
       "<table border=\"1\" class=\"dataframe\">\n",
       "  <thead>\n",
       "    <tr style=\"text-align: right;\">\n",
       "      <th></th>\n",
       "      <th>Building</th>\n",
       "      <th>City</th>\n",
       "      <th>Country</th>\n",
       "      <th>Height in M</th>\n",
       "      <th>Height in Ft</th>\n",
       "      <th>Floors</th>\n",
       "    </tr>\n",
       "  </thead>\n",
       "  <tbody>\n",
       "    <tr>\n",
       "      <th>0</th>\n",
       "      <td>Burj Mubarak al-Kabir</td>\n",
       "      <td>Subiya, Kuwait</td>\n",
       "      <td>Kuwait</td>\n",
       "      <td>1001 m</td>\n",
       "      <td>3284 ft</td>\n",
       "      <td>234</td>\n",
       "    </tr>\n",
       "    <tr>\n",
       "      <th>1</th>\n",
       "      <td>Jeddah Tower</td>\n",
       "      <td>Jeddah</td>\n",
       "      <td>Saudi Arabia</td>\n",
       "      <td>1000 m</td>\n",
       "      <td>3,281 ft</td>\n",
       "      <td>167</td>\n",
       "    </tr>\n",
       "    <tr>\n",
       "      <th>2</th>\n",
       "      <td>Tradewinds Square</td>\n",
       "      <td>Kuala Lumpur</td>\n",
       "      <td>Malaysia</td>\n",
       "      <td>775 m</td>\n",
       "      <td>2,542 ft</td>\n",
       "      <td>110</td>\n",
       "    </tr>\n",
       "    <tr>\n",
       "      <th>3</th>\n",
       "      <td>Dubai One Tower</td>\n",
       "      <td>Dubai</td>\n",
       "      <td>UAE</td>\n",
       "      <td>711 m</td>\n",
       "      <td>2,333 ft</td>\n",
       "      <td>161</td>\n",
       "    </tr>\n",
       "    <tr>\n",
       "      <th>4</th>\n",
       "      <td>Uptown Dubai Tower 1</td>\n",
       "      <td>Dubai</td>\n",
       "      <td>UAE</td>\n",
       "      <td>711 m</td>\n",
       "      <td>2,333 ft</td>\n",
       "      <td>115</td>\n",
       "    </tr>\n",
       "    <tr>\n",
       "      <th>...</th>\n",
       "      <td>...</td>\n",
       "      <td>...</td>\n",
       "      <td>...</td>\n",
       "      <td>...</td>\n",
       "      <td>...</td>\n",
       "      <td>...</td>\n",
       "    </tr>\n",
       "    <tr>\n",
       "      <th>77</th>\n",
       "      <td>Nanjing Olympic Suning Tower</td>\n",
       "      <td>Nanjing</td>\n",
       "      <td>China</td>\n",
       "      <td>420 m</td>\n",
       "      <td>1,379 ft</td>\n",
       "      <td>99</td>\n",
       "    </tr>\n",
       "    <tr>\n",
       "      <th>78</th>\n",
       "      <td>Ningbo Central Plaza Tower 1</td>\n",
       "      <td>Ningbo</td>\n",
       "      <td>China</td>\n",
       "      <td>409 m</td>\n",
       "      <td>1,342 ft</td>\n",
       "      <td>80</td>\n",
       "    </tr>\n",
       "    <tr>\n",
       "      <th>79</th>\n",
       "      <td>Eye of Spring Trade Center 1</td>\n",
       "      <td>Kunming</td>\n",
       "      <td>China</td>\n",
       "      <td>407 m</td>\n",
       "      <td>1,336 ft</td>\n",
       "      <td>100</td>\n",
       "    </tr>\n",
       "    <tr>\n",
       "      <th>80</th>\n",
       "      <td>Bein Arim Tower</td>\n",
       "      <td>Tel Aviv</td>\n",
       "      <td>Israel</td>\n",
       "      <td>400 m</td>\n",
       "      <td>1,312 ft</td>\n",
       "      <td>100</td>\n",
       "    </tr>\n",
       "    <tr>\n",
       "      <th>81</th>\n",
       "      <td>Wuhan Yangtze River Center Tower 1</td>\n",
       "      <td>Wuhan</td>\n",
       "      <td>China</td>\n",
       "      <td>400 m</td>\n",
       "      <td>1,312 ft</td>\n",
       "      <td>82</td>\n",
       "    </tr>\n",
       "  </tbody>\n",
       "</table>\n",
       "<p>82 rows × 6 columns</p>\n",
       "</div>"
      ],
      "text/plain": [
       "                              Building            City        Country  \\\n",
       "0                Burj Mubarak al-Kabir  Subiya, Kuwait         Kuwait   \n",
       "1                         Jeddah Tower          Jeddah   Saudi Arabia   \n",
       "2                    Tradewinds Square    Kuala Lumpur       Malaysia   \n",
       "3                      Dubai One Tower           Dubai            UAE   \n",
       "4                 Uptown Dubai Tower 1           Dubai            UAE   \n",
       "..                                 ...             ...            ...   \n",
       "77        Nanjing Olympic Suning Tower         Nanjing          China   \n",
       "78        Ningbo Central Plaza Tower 1          Ningbo          China   \n",
       "79        Eye of Spring Trade Center 1         Kunming          China   \n",
       "80                     Bein Arim Tower        Tel Aviv         Israel   \n",
       "81  Wuhan Yangtze River Center Tower 1           Wuhan          China   \n",
       "\n",
       "   Height in M Height in Ft Floors  \n",
       "0       1001 m      3284 ft    234  \n",
       "1       1000 m     3,281 ft    167  \n",
       "2        775 m     2,542 ft    110  \n",
       "3        711 m     2,333 ft    161  \n",
       "4        711 m     2,333 ft    115  \n",
       "..         ...          ...    ...  \n",
       "77       420 m     1,379 ft     99  \n",
       "78       409 m     1,342 ft     80  \n",
       "79       407 m     1,336 ft    100  \n",
       "80       400 m     1,312 ft    100  \n",
       "81       400 m     1,312 ft     82  \n",
       "\n",
       "[82 rows x 6 columns]"
      ]
     },
     "execution_count": 15,
     "metadata": {},
     "output_type": "execute_result"
    }
   ],
   "source": [
    "df_buildings"
   ]
  },
  {
   "cell_type": "code",
   "execution_count": 16,
   "metadata": {},
   "outputs": [],
   "source": [
    "df_buildings.to_excel('building.xlsx', index=False)"
   ]
  },
  {
   "cell_type": "code",
   "execution_count": null,
   "metadata": {},
   "outputs": [],
   "source": []
  },
  {
   "cell_type": "code",
   "execution_count": null,
   "metadata": {},
   "outputs": [],
   "source": []
  },
  {
   "cell_type": "code",
   "execution_count": null,
   "metadata": {},
   "outputs": [],
   "source": []
  },
  {
   "cell_type": "code",
   "execution_count": null,
   "metadata": {},
   "outputs": [],
   "source": []
  },
  {
   "cell_type": "code",
   "execution_count": null,
   "metadata": {},
   "outputs": [],
   "source": []
  }
 ],
 "metadata": {
  "kernelspec": {
   "display_name": "Python 3",
   "language": "python",
   "name": "python3"
  },
  "language_info": {
   "codemirror_mode": {
    "name": "ipython",
    "version": 3
   },
   "file_extension": ".py",
   "mimetype": "text/x-python",
   "name": "python",
   "nbconvert_exporter": "python",
   "pygments_lexer": "ipython3",
   "version": "3.9.2"
  }
 },
 "nbformat": 4,
 "nbformat_minor": 4
}
